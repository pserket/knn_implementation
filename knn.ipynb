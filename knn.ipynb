{
 "cells": [
  {
   "cell_type": "code",
   "execution_count": null,
   "metadata": {},
   "outputs": [],
   "source": [
    "PA1 - Pete Sheurpukdi"
   ]
  },
  {
   "cell_type": "code",
   "execution_count": 1,
   "metadata": {},
   "outputs": [],
   "source": [
    "import numpy as np\n",
    "import pandas as pd"
   ]
  },
  {
   "cell_type": "code",
   "execution_count": 122,
   "metadata": {},
   "outputs": [],
   "source": [
    "train = pd.read_csv('pa1train.txt',sep=\" \", header = None)\n",
    "X_train = np.asarray(train.loc[:,:783].values)\n",
    "y_train = np.asarray(train.loc[:,784].values)\n",
    "\n",
    "valid = pd.read_csv('pa1validate.txt',sep=\" \", header = None)\n",
    "X_valid = np.asarray(valid.loc[:,:783].values)\n",
    "y_valid = np.asarray(valid.loc[:,784].values)\n",
    "\n",
    "\n",
    "test = pd.read_csv('pa1test.txt',sep=\" \", header = None)\n",
    "X_test = np.asarray(test.loc[:,:783].values)\n",
    "y_test = np.asarray(test.loc[:,784].values)"
   ]
  },
  {
   "cell_type": "code",
   "execution_count": 125,
   "metadata": {},
   "outputs": [],
   "source": [
    "from collections import Counter\n",
    "from sklearn.metrics.pairwise import euclidean_distances\n",
    "\n",
    "# prediction for one point\n",
    "def predict(X_train, y_train, X_test, k):\n",
    "    distances = []\n",
    "    labels = []\n",
    "\n",
    "    # compute all train points distance to test point and add to list with index of distance's corresponding point\n",
    "    for i in range(len(X_train)):\n",
    "        distance = np.sqrt(np.sum(np.power(np.subtract(X_train[i], X_test), 2)))\n",
    "        distances.append(np.asarray([distance, i]))\n",
    "\n",
    "    # sort distances list by distance\n",
    "    distances = np.asarray(distances)\n",
    "    distances = distances[distances[:,0].argsort()]\n",
    "    \n",
    "    # get k labels of closest neighbors according to saved index in distances\n",
    "    for i in range(k):\n",
    "        index = int(distances[i][1])\n",
    "        labels.append(y_train[index])\n",
    "\n",
    "    # return most common target\n",
    "    label = Counter(labels).most_common(1)[0][0]\n",
    "    return label\n",
    "\n",
    "def kNN(X_train, y_train, X_test, k):\n",
    "    # loop over all X_test\n",
    "    preds = []\n",
    "    for i in range(len(X_test)):\n",
    "        preds.append(predict(X_train, y_train, X_test[i], k))\n",
    "    return preds\n",
    "\n",
    "def error(preds, y):\n",
    "    err=0\n",
    "    for a, b in zip(preds, y):\n",
    "        if a != b:\n",
    "            err += 1\n",
    "    err = err / len(preds)\n",
    "    return err"
   ]
  },
  {
   "cell_type": "code",
   "execution_count": 126,
   "metadata": {},
   "outputs": [
    {
     "name": "stdout",
     "output_type": "stream",
     "text": [
      "Training Error with k=1: 0.0\n",
      "Validation Error with k=1: 0.082\n",
      "Training Error with k=5: 0.0485\n",
      "Validation Error with k=5: 0.097\n",
      "Training Error with k=9: 0.0625\n",
      "Validation Error with k=9: 0.1\n",
      "Training Error with k=15: 0.0845\n",
      "Validation Error with k=15: 0.102\n",
      "Training Error with k=1: 0.0\n",
      "Validation Error with k=1: 0.082\n",
      "Training Error with k=5: 0.0485\n",
      "Validation Error with k=5: 0.097\n",
      "Training Error with k=9: 0.0625\n",
      "Validation Error with k=9: 0.1\n",
      "Training Error with k=15: 0.0845\n",
      "Validation Error with k=15: 0.102\n",
      "16min 20s ± 0 ns per loop (mean ± std. dev. of 1 run, 1 loop each)\n"
     ]
    }
   ],
   "source": [
    "%%timeit -r 1\n",
    "# each k-value to try\n",
    "for k in [1,5,9,15]: \n",
    "    preds = kNN(X_train, y_train, X_train, k)\n",
    "    print(\"Training Error with k=\" + str(k) + \": \" + str(error(preds, y_train)))\n",
    "    preds = kNN(X_train, y_train, X_valid, k)\n",
    "    print(\"Validation Error with k=\" + str(k) + \": \" + str(error(preds, y_valid)))\n"
   ]
  },
  {
   "cell_type": "markdown",
   "metadata": {},
   "source": [
    "The best classifier is k=1"
   ]
  },
  {
   "cell_type": "code",
   "execution_count": 127,
   "metadata": {},
   "outputs": [
    {
     "name": "stdout",
     "output_type": "stream",
     "text": [
      "Test Error with k=1: 0.094\n"
     ]
    }
   ],
   "source": [
    "preds = kNN(X_train, y_train, X_test, 1)\n",
    "print(\"Test Error with k=\" + str(1) + \": \" + str(error(preds, y_test)))"
   ]
  },
  {
   "cell_type": "code",
   "execution_count": 128,
   "metadata": {},
   "outputs": [
    {
     "data": {
      "text/html": [
       "<div>\n",
       "<style scoped>\n",
       "    .dataframe tbody tr th:only-of-type {\n",
       "        vertical-align: middle;\n",
       "    }\n",
       "\n",
       "    .dataframe tbody tr th {\n",
       "        vertical-align: top;\n",
       "    }\n",
       "\n",
       "    .dataframe thead th {\n",
       "        text-align: right;\n",
       "    }\n",
       "</style>\n",
       "<table border=\"1\" class=\"dataframe\">\n",
       "  <thead>\n",
       "    <tr style=\"text-align: right;\">\n",
       "      <th></th>\n",
       "      <th>0</th>\n",
       "      <th>1</th>\n",
       "      <th>2</th>\n",
       "      <th>3</th>\n",
       "      <th>4</th>\n",
       "      <th>5</th>\n",
       "      <th>6</th>\n",
       "      <th>7</th>\n",
       "      <th>8</th>\n",
       "      <th>9</th>\n",
       "      <th>10</th>\n",
       "      <th>11</th>\n",
       "      <th>12</th>\n",
       "      <th>13</th>\n",
       "      <th>14</th>\n",
       "      <th>15</th>\n",
       "      <th>16</th>\n",
       "      <th>17</th>\n",
       "      <th>18</th>\n",
       "      <th>19</th>\n",
       "    </tr>\n",
       "  </thead>\n",
       "  <tbody>\n",
       "    <tr>\n",
       "      <th>0</th>\n",
       "      <td>-0.015626</td>\n",
       "      <td>-0.019702</td>\n",
       "      <td>-0.005087</td>\n",
       "      <td>0.027078</td>\n",
       "      <td>0.015511</td>\n",
       "      <td>-0.048531</td>\n",
       "      <td>-0.005318</td>\n",
       "      <td>-0.007703</td>\n",
       "      <td>0.029581</td>\n",
       "      <td>0.018437</td>\n",
       "      <td>0.052615</td>\n",
       "      <td>-0.033708</td>\n",
       "      <td>0.064847</td>\n",
       "      <td>-0.033585</td>\n",
       "      <td>-0.017796</td>\n",
       "      <td>-0.061265</td>\n",
       "      <td>-0.025245</td>\n",
       "      <td>-0.019012</td>\n",
       "      <td>-0.053294</td>\n",
       "      <td>-0.059311</td>\n",
       "    </tr>\n",
       "    <tr>\n",
       "      <th>1</th>\n",
       "      <td>-0.043534</td>\n",
       "      <td>0.038514</td>\n",
       "      <td>0.061698</td>\n",
       "      <td>-0.026509</td>\n",
       "      <td>-0.014271</td>\n",
       "      <td>-0.010595</td>\n",
       "      <td>0.016936</td>\n",
       "      <td>-0.008244</td>\n",
       "      <td>0.043120</td>\n",
       "      <td>0.020635</td>\n",
       "      <td>-0.015361</td>\n",
       "      <td>0.023042</td>\n",
       "      <td>0.035583</td>\n",
       "      <td>0.056888</td>\n",
       "      <td>-0.041535</td>\n",
       "      <td>0.041684</td>\n",
       "      <td>0.028070</td>\n",
       "      <td>0.031850</td>\n",
       "      <td>0.002475</td>\n",
       "      <td>0.000526</td>\n",
       "    </tr>\n",
       "    <tr>\n",
       "      <th>2</th>\n",
       "      <td>-0.016051</td>\n",
       "      <td>-0.016189</td>\n",
       "      <td>0.030413</td>\n",
       "      <td>-0.041727</td>\n",
       "      <td>-0.035487</td>\n",
       "      <td>0.006792</td>\n",
       "      <td>-0.043063</td>\n",
       "      <td>-0.016762</td>\n",
       "      <td>-0.076310</td>\n",
       "      <td>-0.005724</td>\n",
       "      <td>-0.030372</td>\n",
       "      <td>-0.010438</td>\n",
       "      <td>0.044302</td>\n",
       "      <td>-0.003053</td>\n",
       "      <td>-0.026926</td>\n",
       "      <td>-0.019525</td>\n",
       "      <td>0.023908</td>\n",
       "      <td>-0.008592</td>\n",
       "      <td>0.036698</td>\n",
       "      <td>0.006946</td>\n",
       "    </tr>\n",
       "    <tr>\n",
       "      <th>3</th>\n",
       "      <td>-0.007883</td>\n",
       "      <td>0.040432</td>\n",
       "      <td>-0.013534</td>\n",
       "      <td>-0.004234</td>\n",
       "      <td>-0.028055</td>\n",
       "      <td>0.018167</td>\n",
       "      <td>-0.043165</td>\n",
       "      <td>-0.027020</td>\n",
       "      <td>0.051053</td>\n",
       "      <td>-0.014050</td>\n",
       "      <td>-0.047476</td>\n",
       "      <td>0.007069</td>\n",
       "      <td>-0.001732</td>\n",
       "      <td>-0.038721</td>\n",
       "      <td>0.048611</td>\n",
       "      <td>-0.018313</td>\n",
       "      <td>-0.009919</td>\n",
       "      <td>0.042606</td>\n",
       "      <td>-0.018157</td>\n",
       "      <td>-0.019787</td>\n",
       "    </tr>\n",
       "    <tr>\n",
       "      <th>4</th>\n",
       "      <td>0.039536</td>\n",
       "      <td>0.003373</td>\n",
       "      <td>0.048432</td>\n",
       "      <td>-0.016864</td>\n",
       "      <td>-0.036708</td>\n",
       "      <td>-0.032352</td>\n",
       "      <td>-0.004686</td>\n",
       "      <td>-0.044178</td>\n",
       "      <td>-0.058599</td>\n",
       "      <td>-0.049298</td>\n",
       "      <td>0.039729</td>\n",
       "      <td>0.004514</td>\n",
       "      <td>-0.007552</td>\n",
       "      <td>-0.068464</td>\n",
       "      <td>-0.007477</td>\n",
       "      <td>0.004580</td>\n",
       "      <td>-0.025271</td>\n",
       "      <td>0.050935</td>\n",
       "      <td>-0.056193</td>\n",
       "      <td>0.023619</td>\n",
       "    </tr>\n",
       "  </tbody>\n",
       "</table>\n",
       "</div>"
      ],
      "text/plain": [
       "         0         1         2         3         4         5         6   \\\n",
       "0 -0.015626 -0.019702 -0.005087  0.027078  0.015511 -0.048531 -0.005318   \n",
       "1 -0.043534  0.038514  0.061698 -0.026509 -0.014271 -0.010595  0.016936   \n",
       "2 -0.016051 -0.016189  0.030413 -0.041727 -0.035487  0.006792 -0.043063   \n",
       "3 -0.007883  0.040432 -0.013534 -0.004234 -0.028055  0.018167 -0.043165   \n",
       "4  0.039536  0.003373  0.048432 -0.016864 -0.036708 -0.032352 -0.004686   \n",
       "\n",
       "         7         8         9         10        11        12        13  \\\n",
       "0 -0.007703  0.029581  0.018437  0.052615 -0.033708  0.064847 -0.033585   \n",
       "1 -0.008244  0.043120  0.020635 -0.015361  0.023042  0.035583  0.056888   \n",
       "2 -0.016762 -0.076310 -0.005724 -0.030372 -0.010438  0.044302 -0.003053   \n",
       "3 -0.027020  0.051053 -0.014050 -0.047476  0.007069 -0.001732 -0.038721   \n",
       "4 -0.044178 -0.058599 -0.049298  0.039729  0.004514 -0.007552 -0.068464   \n",
       "\n",
       "         14        15        16        17        18        19  \n",
       "0 -0.017796 -0.061265 -0.025245 -0.019012 -0.053294 -0.059311  \n",
       "1 -0.041535  0.041684  0.028070  0.031850  0.002475  0.000526  \n",
       "2 -0.026926 -0.019525  0.023908 -0.008592  0.036698  0.006946  \n",
       "3  0.048611 -0.018313 -0.009919  0.042606 -0.018157 -0.019787  \n",
       "4 -0.007477  0.004580 -0.025271  0.050935 -0.056193  0.023619  "
      ]
     },
     "execution_count": 128,
     "metadata": {},
     "output_type": "execute_result"
    }
   ],
   "source": [
    "project = pd.read_csv('projection.txt',sep=\" \", header = None)\n",
    "project.head()"
   ]
  },
  {
   "cell_type": "code",
   "execution_count": 129,
   "metadata": {},
   "outputs": [],
   "source": [
    "p_X_test = np.dot(X_test, project)\n",
    "p_X_train = np.dot(X_train, project)\n",
    "p_X_valid = np.dot(X_valid, project)"
   ]
  },
  {
   "cell_type": "code",
   "execution_count": 130,
   "metadata": {},
   "outputs": [
    {
     "name": "stdout",
     "output_type": "stream",
     "text": [
      "Training Error with k=3: 0.0785\n"
     ]
    }
   ],
   "source": [
    "preds = kNN(p_X_train, y_train, p_X_train, 3)\n",
    "print(\"Training Error with k=\" + str(3) + \": \" + str(error(preds, y_train)))"
   ]
  },
  {
   "cell_type": "code",
   "execution_count": 136,
   "metadata": {},
   "outputs": [
    {
     "name": "stdout",
     "output_type": "stream",
     "text": [
      "Training Error with k=1: 0.0\n",
      "Validation Error with k=1: 0.32\n",
      "Training Error with k=5: 0.1495\n",
      "Validation Error with k=5: 0.285\n",
      "Training Error with k=9: 0.198\n",
      "Validation Error with k=9: 0.281\n",
      "Training Error with k=15: 0.2325\n",
      "Validation Error with k=15: 0.285\n",
      "9min 43s ± 0 ns per loop (mean ± std. dev. of 1 run, 1 loop each)\n"
     ]
    }
   ],
   "source": [
    "%%timeit -n1 -r1\n",
    "# each k-value to try\n",
    "for k in [1,5,9,15]: \n",
    "    preds = kNN(p_X_train, y_train, p_X_train, k)\n",
    "    print(\"Training Error with k=\" + str(k) + \": \" + str(error(preds, y_train)))\n",
    "    preds = kNN(p_X_train, y_train, p_X_valid, k)\n",
    "    print(\"Validation Error with k=\" + str(k) + \": \" + str(error(preds, y_valid)))\n"
   ]
  },
  {
   "cell_type": "code",
   "execution_count": 137,
   "metadata": {},
   "outputs": [
    {
     "name": "stdout",
     "output_type": "stream",
     "text": [
      "Test Error with k=1: 0.282\n"
     ]
    }
   ],
   "source": [
    "preds = kNN(p_X_train, y_train, p_X_test, 9)\n",
    "print(\"Test Error with k=\" + str(1) + \": \" + str(error(preds, y_test)))"
   ]
  },
  {
   "cell_type": "markdown",
   "metadata": {},
   "source": [
    "There is about 2-3x higher error rate by projecting the data onto the projection matrix, however the computational time is 1/2 of the original."
   ]
  },
  {
   "cell_type": "code",
   "execution_count": null,
   "metadata": {},
   "outputs": [],
   "source": []
  },
  {
   "cell_type": "code",
   "execution_count": null,
   "metadata": {},
   "outputs": [],
   "source": []
  }
 ],
 "metadata": {
  "kernelspec": {
   "display_name": "Python 3",
   "language": "python",
   "name": "python3"
  },
  "language_info": {
   "codemirror_mode": {
    "name": "ipython",
    "version": 3
   },
   "file_extension": ".py",
   "mimetype": "text/x-python",
   "name": "python",
   "nbconvert_exporter": "python",
   "pygments_lexer": "ipython3",
   "version": "3.6.5"
  }
 },
 "nbformat": 4,
 "nbformat_minor": 2
}
